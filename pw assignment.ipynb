{
 "cells": [
  {
   "cell_type": "markdown",
   "id": "f38bd0df",
   "metadata": {},
   "source": [
    "\n",
    "Q1. Create one variable containing following type of data:\n",
    "(i) string\n",
    "(ii) list\n",
    "(iii) float\n",
    "(iv) tuple\n",
    "\n",
    "\n"
   ]
  },
  {
   "cell_type": "code",
   "execution_count": 2,
   "id": "b1783626",
   "metadata": {},
   "outputs": [
    {
     "name": "stdout",
     "output_type": "stream",
     "text": [
      "{'string': 'Hello, World!', 'list': [1, 2, 3, 4], 'float': 3.14, 'tuple': (5, 6, 7)}\n"
     ]
    }
   ],
   "source": [
    "mixed_data = {\n",
    "    \"string\": \"Hello, World!\",\n",
    "    \"list\": [1, 2, 3, 4],\n",
    "    \"float\": 3.14,\n",
    "    \"tuple\": (5, 6, 7)\n",
    "}\n",
    "print(mixed_data)\n"
   ]
  },
  {
   "cell_type": "code",
   "execution_count": null,
   "id": "ba09fb75",
   "metadata": {},
   "outputs": [],
   "source": [
    "Q2. Given are some following variables containing data:\n",
    "(i) var1 = ‘ ‘\n",
    "(ii) var2 = ‘[ DS , ML , Python]’\n",
    "(iii) var3 = [ ‘DS’ , ’ML’ , ‘Python’ ]\n",
    "(iv) var4 = 1.\n",
    "What will be the data type of the above given variable."
   ]
  },
  {
   "cell_type": "code",
   "execution_count": 7,
   "id": "dcc0ef65",
   "metadata": {},
   "outputs": [],
   "source": [
    "var1 = ' '  \n",
    "var2 = '[ DS , ML , Python]' \n",
    "var3 = ['DS', 'ML', 'Python']  \n",
    "var4 = 1. \n",
    "\n",
    "So, the data types are:\n",
    "\n",
    "var1: str\n",
    "var2: str\n",
    "var3: list\n",
    "var4: float\n"
   ]
  },
  {
   "cell_type": "code",
   "execution_count": null,
   "id": "e92feb4c",
   "metadata": {},
   "outputs": [],
   "source": [
    "Q3. Explain the use of the following operators using an example:\n",
    "(i) /\n",
    "(ii) %\n",
    "(iii) //\n",
    "(iv) **"
   ]
  },
  {
   "cell_type": "code",
   "execution_count": null,
   "id": "df6f874a",
   "metadata": {},
   "outputs": [],
   "source": [
    "i)Division /: Returns the quotient as a float.\n",
    "print(10 / 3)  # Output: 3.3333\n",
    "ii)Modulus %: Returns the remainder of division.\n",
    "print(10 % 3)  # Output: 1\n",
    "iii)Floor Division //: Returns the quotient rounded down (integer division)    \n",
    "print(10 // 3)  # Output: 3\n",
    "\n",
    "iv)Exponentiation **: Raises one number to the power of another    \n",
    "print(2 ** 3)  # Output: 8\n",
    "\n",
    "\n",
    "    "
   ]
  },
  {
   "cell_type": "code",
   "execution_count": null,
   "id": "fe52d4d2",
   "metadata": {},
   "outputs": [],
   "source": [
    "'''Q4. Create a list of length 10 of your choice containing multiple types of data. Using for loop print the\n",
    "element and its data type.''''"
   ]
  },
  {
   "cell_type": "code",
   "execution_count": 9,
   "id": "ba32db74",
   "metadata": {},
   "outputs": [
    {
     "name": "stdout",
     "output_type": "stream",
     "text": [
      "Element: 10, Type: <class 'int'>\n",
      "Element: Python, Type: <class 'str'>\n",
      "Element: 3.14, Type: <class 'float'>\n",
      "Element: True, Type: <class 'bool'>\n",
      "Element: [1, 2, 3], Type: <class 'list'>\n",
      "Element: (4, 5, 6), Type: <class 'tuple'>\n",
      "Element: {'a': 1}, Type: <class 'dict'>\n",
      "Element: None, Type: <class 'NoneType'>\n",
      "Element: (2+3j), Type: <class 'complex'>\n",
      "Element: b'byte', Type: <class 'bytes'>\n"
     ]
    }
   ],
   "source": [
    "data_list = [10, \"Python\", 3.14, True, [1, 2, 3], (4, 5, 6), {'a': 1}, None, complex(2, 3), b'byte']\n",
    "\n",
    "for item in data_list:\n",
    "    print(f\"Element: {item}, Type: {type(item)}\")\n"
   ]
  },
  {
   "cell_type": "code",
   "execution_count": null,
   "id": "13eb38fa",
   "metadata": {},
   "outputs": [],
   "source": [
    "Q5. Using a while loop, verify if the number A is purely divisible by number B and if so then how many\n",
    "times it can be divisible."
   ]
  },
  {
   "cell_type": "code",
   "execution_count": 10,
   "id": "e215122d",
   "metadata": {},
   "outputs": [
    {
     "name": "stdout",
     "output_type": "stream",
     "text": [
      "The number is divisible 4 times.\n"
     ]
    }
   ],
   "source": [
    "A = 81\n",
    "B = 3\n",
    "count = 0\n",
    "\n",
    "while A % B == 0:\n",
    "    A = A // B\n",
    "    count += 1\n",
    "\n",
    "print(f\"The number is divisible {count} times.\")\n"
   ]
  },
  {
   "cell_type": "code",
   "execution_count": null,
   "id": "f9dea415",
   "metadata": {},
   "outputs": [],
   "source": [
    "Q6. Create a list containing 25 int type data. Using for loop and if-else condition print if the element is\n",
    "divisible by 3 or not."
   ]
  },
  {
   "cell_type": "code",
   "execution_count": 11,
   "id": "80e561db",
   "metadata": {},
   "outputs": [
    {
     "name": "stdout",
     "output_type": "stream",
     "text": [
      "1 is NOT divisible by 3\n",
      "2 is NOT divisible by 3\n",
      "3 is divisible by 3\n",
      "4 is NOT divisible by 3\n",
      "5 is NOT divisible by 3\n",
      "6 is divisible by 3\n",
      "7 is NOT divisible by 3\n",
      "8 is NOT divisible by 3\n",
      "9 is divisible by 3\n",
      "10 is NOT divisible by 3\n",
      "11 is NOT divisible by 3\n",
      "12 is divisible by 3\n",
      "13 is NOT divisible by 3\n",
      "14 is NOT divisible by 3\n",
      "15 is divisible by 3\n",
      "16 is NOT divisible by 3\n",
      "17 is NOT divisible by 3\n",
      "18 is divisible by 3\n",
      "19 is NOT divisible by 3\n",
      "20 is NOT divisible by 3\n",
      "21 is divisible by 3\n",
      "22 is NOT divisible by 3\n",
      "23 is NOT divisible by 3\n",
      "24 is divisible by 3\n",
      "25 is NOT divisible by 3\n"
     ]
    }
   ],
   "source": [
    "numbers = list(range(1, 26))  # Creates a list from 1 to 25\n",
    "\n",
    "for num in numbers:\n",
    "    if num % 3 == 0:\n",
    "        print(f\"{num} is divisible by 3\")\n",
    "    else:\n",
    "        print(f\"{num} is NOT divisible by 3\")\n"
   ]
  },
  {
   "cell_type": "code",
   "execution_count": null,
   "id": "a8fb0fc4",
   "metadata": {},
   "outputs": [],
   "source": [
    "Q7. What do you understand about mutable and immutable data types? Give examples for both showing\n",
    "this property."
   ]
  },
  {
   "cell_type": "code",
   "execution_count": 16,
   "id": "c6598c4b",
   "metadata": {},
   "outputs": [
    {
     "name": "stdout",
     "output_type": "stream",
     "text": [
      "[10, 2, 3]\n"
     ]
    },
    {
     "ename": "TypeError",
     "evalue": "'tuple' object does not support item assignment",
     "output_type": "error",
     "traceback": [
      "\u001b[1;31m---------------------------------------------------------------------------\u001b[0m",
      "\u001b[1;31mTypeError\u001b[0m                                 Traceback (most recent call last)",
      "Cell \u001b[1;32mIn[16], line 8\u001b[0m\n\u001b[0;32m      6\u001b[0m \u001b[38;5;66;03m##Immutable Data Types: Cannot be changed after creation.\u001b[39;00m\n\u001b[0;32m      7\u001b[0m my_tuple \u001b[38;5;241m=\u001b[39m (\u001b[38;5;241m1\u001b[39m, \u001b[38;5;241m2\u001b[39m, \u001b[38;5;241m3\u001b[39m)\n\u001b[1;32m----> 8\u001b[0m my_tuple[\u001b[38;5;241m0\u001b[39m] \u001b[38;5;241m=\u001b[39m \u001b[38;5;241m10\u001b[39m\n",
      "\u001b[1;31mTypeError\u001b[0m: 'tuple' object does not support item assignment"
     ]
    }
   ],
   "source": [
    "##Mutable Data Types: Can be changed after creation.\n",
    "my_list = [1, 2, 3]\n",
    "my_list[0] = 10  # Modifying the list (allowed)\n",
    "print(my_list)  # Output: [10, 2, 3]\n",
    "\n",
    "##Immutable Data Types: Cannot be changed after creation.\n",
    "my_tuple = (1, 2, 3)\n",
    "my_tuple[0] = 10  # This will raise an error\n",
    "\n",
    "## Examples:\n",
    "\n",
    "## Mutable: list, dict, set\n",
    "## Immutable: int, float, tuple, string"
   ]
  },
  {
   "cell_type": "code",
   "execution_count": null,
   "id": "004cae85",
   "metadata": {},
   "outputs": [],
   "source": []
  }
 ],
 "metadata": {
  "kernelspec": {
   "display_name": "Python 3 (ipykernel)",
   "language": "python",
   "name": "python3"
  },
  "language_info": {
   "codemirror_mode": {
    "name": "ipython",
    "version": 3
   },
   "file_extension": ".py",
   "mimetype": "text/x-python",
   "name": "python",
   "nbconvert_exporter": "python",
   "pygments_lexer": "ipython3",
   "version": "3.11.5"
  }
 },
 "nbformat": 4,
 "nbformat_minor": 5
}
